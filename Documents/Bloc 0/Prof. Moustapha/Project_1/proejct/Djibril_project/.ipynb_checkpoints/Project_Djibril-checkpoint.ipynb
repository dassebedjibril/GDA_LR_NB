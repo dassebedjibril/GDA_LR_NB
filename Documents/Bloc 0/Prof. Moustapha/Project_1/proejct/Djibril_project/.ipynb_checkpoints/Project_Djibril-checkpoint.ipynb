{
 "cells": [
  {
   "cell_type": "code",
   "execution_count": null,
   "metadata": {
    "scrolled": true
   },
   "outputs": [],
   "source": [
    "from IPython.display import Image\n",
    "\n",
    "fig = Image(filename=('figm.png'))\n",
    "fig"
   ]
  },
  {
   "cell_type": "code",
   "execution_count": null,
   "metadata": {},
   "outputs": [],
   "source": [
    "import pandas as pd\n",
    "import numpy as np"
   ]
  },
  {
   "cell_type": "code",
   "execution_count": null,
   "metadata": {},
   "outputs": [],
   "source": [
    "proj=pd.read_csv('drugLibTrain_raw.tsv',delimiter='\\t')"
   ]
  },
  {
   "cell_type": "code",
   "execution_count": null,
   "metadata": {
    "scrolled": true
   },
   "outputs": [],
   "source": [
    "proj.head()"
   ]
  },
  {
   "cell_type": "code",
   "execution_count": null,
   "metadata": {},
   "outputs": [],
   "source": [
    "proj.shape"
   ]
  },
  {
   "cell_type": "code",
   "execution_count": null,
   "metadata": {},
   "outputs": [],
   "source": [
    "proj.isnull().sum()"
   ]
  },
  {
   "cell_type": "code",
   "execution_count": null,
   "metadata": {},
   "outputs": [],
   "source": [
    "proj.describe()"
   ]
  },
  {
   "cell_type": "code",
   "execution_count": null,
   "metadata": {},
   "outputs": [],
   "source": [
    "proj.dropna(inplace=True)"
   ]
  },
  {
   "cell_type": "code",
   "execution_count": null,
   "metadata": {},
   "outputs": [],
   "source": [
    "proj.shape"
   ]
  },
  {
   "cell_type": "code",
   "execution_count": null,
   "metadata": {},
   "outputs": [],
   "source": [
    "y=proj['rating']"
   ]
  },
  {
   "cell_type": "code",
   "execution_count": null,
   "metadata": {},
   "outputs": [],
   "source": [
    "y=y.values"
   ]
  },
  {
   "cell_type": "code",
   "execution_count": null,
   "metadata": {},
   "outputs": [],
   "source": [
    "y.shape"
   ]
  },
  {
   "cell_type": "code",
   "execution_count": null,
   "metadata": {},
   "outputs": [],
   "source": [
    "proj=proj.drop('rating', axis= 1)"
   ]
  },
  {
   "cell_type": "code",
   "execution_count": null,
   "metadata": {},
   "outputs": [],
   "source": [
    "X=proj\n",
    "X.head()"
   ]
  },
  {
   "cell_type": "code",
   "execution_count": null,
   "metadata": {
    "scrolled": true
   },
   "outputs": [],
   "source": [
    "X=X.iloc[:, 1:].values\n",
    "X"
   ]
  },
  {
   "cell_type": "code",
   "execution_count": null,
   "metadata": {},
   "outputs": [],
   "source": [
    "from sklearn.feature_extraction.text import CountVectorizer\n",
    "\n",
    "vectorizer = CountVectorizer()\n",
    "\n",
    "for i in range(X.shape[1]):\n",
    "    X[:, i]=vectorizer.fit_transform(X[:, i]).toarray()"
   ]
  },
  {
   "cell_type": "code",
   "execution_count": null,
   "metadata": {},
   "outputs": [],
   "source": [
    "from sklearn.model_selection import train_test_split"
   ]
  },
  {
   "cell_type": "code",
   "execution_count": null,
   "metadata": {},
   "outputs": [],
   "source": [
    "X_train1, X_test, y_train1, y_test = train_test_split(X, y,test_size=0.3)"
   ]
  },
  {
   "cell_type": "code",
   "execution_count": null,
   "metadata": {},
   "outputs": [],
   "source": [
    "#X_train1.shape"
   ]
  },
  {
   "cell_type": "markdown",
   "metadata": {},
   "source": [
    "# IMPLEMENTATION OF CLASSES"
   ]
  },
  {
   "cell_type": "markdown",
   "metadata": {},
   "source": [
    "### Multi Class Gaussian Discriminant"
   ]
  },
  {
   "cell_type": "code",
   "execution_count": null,
   "metadata": {},
   "outputs": [],
   "source": [
    "class GDA:\n",
    "    \n",
    "    \n",
    "    def fit(self, X, y, tol = 1e-8):\n",
    "        \n",
    "        self.y_classes, y_counts = np.unique(y, return_counts=True)\n",
    "        self.phi_y = y_counts/len(y)\n",
    "        self.m_u = np.array([ X[y==k].mean(axis=0) for k in self.y_classes])\n",
    "        self.sig = self.sigma(X, y)\n",
    "        self.sig += np.ones_like(self.sig) * tol\n",
    "        self.inv_sig = np.linalg.pinv(self.sig)\n",
    "        return self\n",
    "    \n",
    "    \n",
    "    def sigma(self,X, y):\n",
    "        \n",
    "        X_mu = X.copy().astype('float64')\n",
    "        for i in range(len(self.m_u)):\n",
    "            X_mu[y==self.y_classes[i]] -= self.m_u[i]\n",
    "        return X_mu.T.dot(X_mu) / len(y)\n",
    "    \n",
    "    \n",
    "    def proba(self, x):\n",
    "        p = np.exp(-1.0 * np.sum((x - self.m_u).dot(self.inv_sig) * (x - self.m_u), axis =1)) * self.phi_y\n",
    "        return np.argmax(p)\n",
    "    \n",
    "    \n",
    "    def score(self, X, y):\n",
    "        return (self.predict(X) == y).mean()\n",
    "    \n",
    "    \n",
    "    def predict(self, X):\n",
    "        return np.apply_along_axis(self.proba, 1, X)"
   ]
  },
  {
   "cell_type": "code",
   "execution_count": null,
   "metadata": {},
   "outputs": [],
   "source": [
    "X_train, X_test, y_train, y_test = train_test_split(X_train1,y_train1, test_size=0.5)\n",
    "model = GDA().fit(X_train,y_train)\n",
    "model.score(X_test,y_test)"
   ]
  },
  {
   "cell_type": "code",
   "execution_count": null,
   "metadata": {},
   "outputs": [],
   "source": [
    "GDA().fit(X_train1, y_train1).evaluate(X_train1, y_train1)"
   ]
  },
  {
   "cell_type": "markdown",
   "metadata": {},
   "source": [
    "###  Multinomial Naive Bayes"
   ]
  },
  {
   "cell_type": "code",
   "execution_count": null,
   "metadata": {},
   "outputs": [],
   "source": [
    "class Multi_NB:\n",
    "    \n",
    "    def fit(self, X, y):\n",
    "        \n",
    "        self.y_classes, y_counts = np.unique(y, return_counts=True)\n",
    "        self.x_classes = np.array([np.unique(x) for x in X.T])\n",
    "        self.phi_y = y_counts/y_counts.sum()\n",
    "        self.phi_x = self.mean_x(X, y)\n",
    "        return self\n",
    "    \n",
    "    def mean_x(self, X, y):\n",
    "        \n",
    "        return [[(X[:,j][y==k].reshape(-1,1) == self.x_classes[j]).mean(axis=0)\n",
    "                       for j in range(len(self.x_classes))]\n",
    "                      for k in self.y_classes]\n",
    "    \n",
    "    def predict(self, X):\n",
    "        \n",
    "        return np.apply_along_axis(lambda x: self.compute_prob(x), 1, X)\n",
    "    \n",
    "    def compute_prob(self, x):\n",
    "        \n",
    "        prob = np.array([self.get_prob(x, y) for y in range(len(self.y_classes))])\n",
    "        return self.y_classes[np.argmax(prob)]\n",
    "    \n",
    "    def get_prob(self, x, y):\n",
    "        \n",
    "        Px_y = 1\n",
    "        for j in range(len(x)):\n",
    "            i = list(self.x_classes[j]).index(x[j])\n",
    "            Px_y *= self.phi_x[y][j][i] \n",
    "        return Px_y * self.phi_y[y]\n",
    "    \n",
    "    def evaluate(self, X, y):\n",
    "        \n",
    "        return (self.predict(X) == y).mean()"
   ]
  },
  {
   "cell_type": "code",
   "execution_count": null,
   "metadata": {},
   "outputs": [],
   "source": []
  },
  {
   "cell_type": "code",
   "execution_count": null,
   "metadata": {},
   "outputs": [],
   "source": [
    "from sklearn import datasets\n",
    "iris = datasets.load_iris()\n",
    "X = iris.data  \n",
    "y = iris.target\n",
    "Multi_NB().fit(X, y).evaluate(X, y)"
   ]
  },
  {
   "cell_type": "code",
   "execution_count": null,
   "metadata": {},
   "outputs": [],
   "source": []
  },
  {
   "cell_type": "code",
   "execution_count": null,
   "metadata": {},
   "outputs": [],
   "source": [
    "clf = MultinomialNB().fit(X_train1, y_train1)\n",
    "print(clf.predict(X_train1))"
   ]
  },
  {
   "cell_type": "code",
   "execution_count": null,
   "metadata": {},
   "outputs": [],
   "source": [
    "Multi_NB().fit(X_train1, y_train1).evaluate(X_train1, y_train1)"
   ]
  },
  {
   "cell_type": "code",
   "execution_count": null,
   "metadata": {},
   "outputs": [],
   "source": [
    "X_train1"
   ]
  },
  {
   "cell_type": "code",
   "execution_count": null,
   "metadata": {},
   "outputs": [],
   "source": [
    "y_train1"
   ]
  },
  {
   "cell_type": "code",
   "execution_count": null,
   "metadata": {},
   "outputs": [],
   "source": [
    "X.shape"
   ]
  },
  {
   "cell_type": "code",
   "execution_count": null,
   "metadata": {},
   "outputs": [],
   "source": [
    "X"
   ]
  },
  {
   "cell_type": "code",
   "execution_count": null,
   "metadata": {},
   "outputs": [],
   "source": []
  },
  {
   "cell_type": "code",
   "execution_count": null,
   "metadata": {},
   "outputs": [],
   "source": []
  },
  {
   "cell_type": "code",
   "execution_count": null,
   "metadata": {},
   "outputs": [],
   "source": []
  },
  {
   "cell_type": "code",
   "execution_count": null,
   "metadata": {},
   "outputs": [],
   "source": []
  },
  {
   "cell_type": "code",
   "execution_count": null,
   "metadata": {},
   "outputs": [],
   "source": []
  },
  {
   "cell_type": "code",
   "execution_count": null,
   "metadata": {},
   "outputs": [],
   "source": []
  },
  {
   "cell_type": "code",
   "execution_count": null,
   "metadata": {},
   "outputs": [],
   "source": [
    "\n"
   ]
  }
 ],
 "metadata": {
  "kernelspec": {
   "display_name": "Python 3",
   "language": "python",
   "name": "python3"
  },
  "language_info": {
   "codemirror_mode": {
    "name": "ipython",
    "version": 3
   },
   "file_extension": ".py",
   "mimetype": "text/x-python",
   "name": "python",
   "nbconvert_exporter": "python",
   "pygments_lexer": "ipython3",
   "version": "3.7.3"
  }
 },
 "nbformat": 4,
 "nbformat_minor": 2
}
