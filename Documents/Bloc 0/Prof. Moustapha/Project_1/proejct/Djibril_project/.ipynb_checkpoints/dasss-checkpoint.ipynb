{
 "cells": [
  {
   "cell_type": "markdown",
   "metadata": {},
   "source": [
    "In this project we have to compare both generative models Gaussian Discriminant Analysis (GDA) and Naive Bayes (NB)"
   ]
  },
  {
   "cell_type": "code",
   "execution_count": 1,
   "metadata": {},
   "outputs": [],
   "source": [
    "import pandas as pd\n",
    "import numpy as np\n",
    "import matplotlib.pyplot as plt\n",
    "import seaborn as sns\n",
    "%matplotlib inline"
   ]
  },
  {
   "cell_type": "markdown",
   "metadata": {},
   "source": [
    "# (I) GDA"
   ]
  },
  {
   "cell_type": "raw",
   "metadata": {},
   "source": [
    "Here we compute p(y|x) indirectly by learning the model p(y) and p(x|y) using training set, \n",
    "we use Bayes Rule to derive p(y|x) as\n",
    "\n",
    "         p(x|y)*p(y)\n",
    "p(y|x) = -----------\n",
    "             p(x)"
   ]
  },
  {
   "cell_type": "raw",
   "metadata": {},
   "source": [
    "we assume p(x|y) is distributed according to a multivariate normal distribution and p(y) is distributed according to Bernoulli."
   ]
  },
  {
   "cell_type": "code",
   "execution_count": 21,
   "metadata": {},
   "outputs": [],
   "source": [
    "df= pd.read_csv('drugLibTrain_raw.tsv', sep='\\t') # separate by tabulation dif to csv where we have separate by comma#"
   ]
  },
  {
   "cell_type": "code",
   "execution_count": 22,
   "metadata": {
    "scrolled": true
   },
   "outputs": [
    {
     "data": {
      "text/html": [
       "<div>\n",
       "<style scoped>\n",
       "    .dataframe tbody tr th:only-of-type {\n",
       "        vertical-align: middle;\n",
       "    }\n",
       "\n",
       "    .dataframe tbody tr th {\n",
       "        vertical-align: top;\n",
       "    }\n",
       "\n",
       "    .dataframe thead th {\n",
       "        text-align: right;\n",
       "    }\n",
       "</style>\n",
       "<table border=\"1\" class=\"dataframe\">\n",
       "  <thead>\n",
       "    <tr style=\"text-align: right;\">\n",
       "      <th></th>\n",
       "      <th>Unnamed: 0</th>\n",
       "      <th>urlDrugName</th>\n",
       "      <th>rating</th>\n",
       "      <th>effectiveness</th>\n",
       "      <th>sideEffects</th>\n",
       "      <th>condition</th>\n",
       "      <th>benefitsReview</th>\n",
       "      <th>sideEffectsReview</th>\n",
       "      <th>commentsReview</th>\n",
       "    </tr>\n",
       "  </thead>\n",
       "  <tbody>\n",
       "    <tr>\n",
       "      <th>0</th>\n",
       "      <td>2202</td>\n",
       "      <td>enalapril</td>\n",
       "      <td>4</td>\n",
       "      <td>Highly Effective</td>\n",
       "      <td>Mild Side Effects</td>\n",
       "      <td>management of congestive heart failure</td>\n",
       "      <td>slowed the progression of left ventricular dys...</td>\n",
       "      <td>cough, hypotension , proteinuria, impotence , ...</td>\n",
       "      <td>monitor blood pressure , weight and asses for ...</td>\n",
       "    </tr>\n",
       "    <tr>\n",
       "      <th>1</th>\n",
       "      <td>3117</td>\n",
       "      <td>ortho-tri-cyclen</td>\n",
       "      <td>1</td>\n",
       "      <td>Highly Effective</td>\n",
       "      <td>Severe Side Effects</td>\n",
       "      <td>birth prevention</td>\n",
       "      <td>Although this type of birth control has more c...</td>\n",
       "      <td>Heavy Cycle, Cramps, Hot Flashes, Fatigue, Lon...</td>\n",
       "      <td>I Hate This Birth Control, I Would Not Suggest...</td>\n",
       "    </tr>\n",
       "    <tr>\n",
       "      <th>2</th>\n",
       "      <td>1146</td>\n",
       "      <td>ponstel</td>\n",
       "      <td>10</td>\n",
       "      <td>Highly Effective</td>\n",
       "      <td>No Side Effects</td>\n",
       "      <td>menstrual cramps</td>\n",
       "      <td>I was used to having cramps so badly that they...</td>\n",
       "      <td>Heavier bleeding and clotting than normal.</td>\n",
       "      <td>I took 2 pills at the onset of my menstrual cr...</td>\n",
       "    </tr>\n",
       "    <tr>\n",
       "      <th>3</th>\n",
       "      <td>3947</td>\n",
       "      <td>prilosec</td>\n",
       "      <td>3</td>\n",
       "      <td>Marginally Effective</td>\n",
       "      <td>Mild Side Effects</td>\n",
       "      <td>acid reflux</td>\n",
       "      <td>The acid reflux went away for a few months aft...</td>\n",
       "      <td>Constipation, dry mouth and some mild dizzines...</td>\n",
       "      <td>I was given Prilosec prescription at a dose of...</td>\n",
       "    </tr>\n",
       "    <tr>\n",
       "      <th>4</th>\n",
       "      <td>1951</td>\n",
       "      <td>lyrica</td>\n",
       "      <td>2</td>\n",
       "      <td>Marginally Effective</td>\n",
       "      <td>Severe Side Effects</td>\n",
       "      <td>fibromyalgia</td>\n",
       "      <td>I think that the Lyrica was starting to help w...</td>\n",
       "      <td>I felt extremely drugged and dopey.  Could not...</td>\n",
       "      <td>See above</td>\n",
       "    </tr>\n",
       "  </tbody>\n",
       "</table>\n",
       "</div>"
      ],
      "text/plain": [
       "   Unnamed: 0       urlDrugName  rating         effectiveness  \\\n",
       "0        2202         enalapril       4      Highly Effective   \n",
       "1        3117  ortho-tri-cyclen       1      Highly Effective   \n",
       "2        1146           ponstel      10      Highly Effective   \n",
       "3        3947          prilosec       3  Marginally Effective   \n",
       "4        1951            lyrica       2  Marginally Effective   \n",
       "\n",
       "           sideEffects                               condition  \\\n",
       "0    Mild Side Effects  management of congestive heart failure   \n",
       "1  Severe Side Effects                        birth prevention   \n",
       "2      No Side Effects                        menstrual cramps   \n",
       "3    Mild Side Effects                             acid reflux   \n",
       "4  Severe Side Effects                            fibromyalgia   \n",
       "\n",
       "                                      benefitsReview  \\\n",
       "0  slowed the progression of left ventricular dys...   \n",
       "1  Although this type of birth control has more c...   \n",
       "2  I was used to having cramps so badly that they...   \n",
       "3  The acid reflux went away for a few months aft...   \n",
       "4  I think that the Lyrica was starting to help w...   \n",
       "\n",
       "                                   sideEffectsReview  \\\n",
       "0  cough, hypotension , proteinuria, impotence , ...   \n",
       "1  Heavy Cycle, Cramps, Hot Flashes, Fatigue, Lon...   \n",
       "2         Heavier bleeding and clotting than normal.   \n",
       "3  Constipation, dry mouth and some mild dizzines...   \n",
       "4  I felt extremely drugged and dopey.  Could not...   \n",
       "\n",
       "                                      commentsReview  \n",
       "0  monitor blood pressure , weight and asses for ...  \n",
       "1  I Hate This Birth Control, I Would Not Suggest...  \n",
       "2  I took 2 pills at the onset of my menstrual cr...  \n",
       "3  I was given Prilosec prescription at a dose of...  \n",
       "4                                          See above  "
      ]
     },
     "execution_count": 22,
     "metadata": {},
     "output_type": "execute_result"
    }
   ],
   "source": [
    "df.head()"
   ]
  },
  {
   "cell_type": "code",
   "execution_count": 23,
   "metadata": {},
   "outputs": [
    {
     "data": {
      "text/plain": [
       "(3107, 9)"
      ]
     },
     "execution_count": 23,
     "metadata": {},
     "output_type": "execute_result"
    }
   ],
   "source": [
    "df.shape"
   ]
  },
  {
   "cell_type": "code",
   "execution_count": 24,
   "metadata": {},
   "outputs": [
    {
     "data": {
      "text/plain": [
       "Unnamed: 0           0\n",
       "urlDrugName          0\n",
       "rating               0\n",
       "effectiveness        0\n",
       "sideEffects          0\n",
       "condition            1\n",
       "benefitsReview       0\n",
       "sideEffectsReview    2\n",
       "commentsReview       8\n",
       "dtype: int64"
      ]
     },
     "execution_count": 24,
     "metadata": {},
     "output_type": "execute_result"
    }
   ],
   "source": [
    "df.isnull().sum()"
   ]
  },
  {
   "cell_type": "code",
   "execution_count": null,
   "metadata": {},
   "outputs": [],
   "source": []
  },
  {
   "cell_type": "code",
   "execution_count": 25,
   "metadata": {},
   "outputs": [],
   "source": [
    "df.dropna(inplace=True)"
   ]
  },
  {
   "cell_type": "code",
   "execution_count": 26,
   "metadata": {},
   "outputs": [
    {
     "data": {
      "text/plain": [
       "(3096, 9)"
      ]
     },
     "execution_count": 26,
     "metadata": {},
     "output_type": "execute_result"
    }
   ],
   "source": [
    "df.shape"
   ]
  },
  {
   "cell_type": "code",
   "execution_count": 27,
   "metadata": {},
   "outputs": [],
   "source": [
    "y=df['rating']"
   ]
  },
  {
   "cell_type": "code",
   "execution_count": 28,
   "metadata": {},
   "outputs": [],
   "source": [
    "y=y.values"
   ]
  },
  {
   "cell_type": "code",
   "execution_count": 29,
   "metadata": {},
   "outputs": [
    {
     "data": {
      "text/plain": [
       "(3096,)"
      ]
     },
     "execution_count": 29,
     "metadata": {},
     "output_type": "execute_result"
    }
   ],
   "source": [
    "y.shape"
   ]
  },
  {
   "cell_type": "code",
   "execution_count": 30,
   "metadata": {},
   "outputs": [],
   "source": [
    "df=df.drop('rating', axis= 1)"
   ]
  },
  {
   "cell_type": "code",
   "execution_count": null,
   "metadata": {},
   "outputs": [],
   "source": []
  },
  {
   "cell_type": "code",
   "execution_count": 34,
   "metadata": {},
   "outputs": [
    {
     "data": {
      "text/html": [
       "<div>\n",
       "<style scoped>\n",
       "    .dataframe tbody tr th:only-of-type {\n",
       "        vertical-align: middle;\n",
       "    }\n",
       "\n",
       "    .dataframe tbody tr th {\n",
       "        vertical-align: top;\n",
       "    }\n",
       "\n",
       "    .dataframe thead th {\n",
       "        text-align: right;\n",
       "    }\n",
       "</style>\n",
       "<table border=\"1\" class=\"dataframe\">\n",
       "  <thead>\n",
       "    <tr style=\"text-align: right;\">\n",
       "      <th></th>\n",
       "      <th>Unnamed: 0</th>\n",
       "      <th>urlDrugName</th>\n",
       "      <th>effectiveness</th>\n",
       "      <th>sideEffects</th>\n",
       "      <th>condition</th>\n",
       "      <th>benefitsReview</th>\n",
       "      <th>sideEffectsReview</th>\n",
       "      <th>commentsReview</th>\n",
       "    </tr>\n",
       "  </thead>\n",
       "  <tbody>\n",
       "    <tr>\n",
       "      <th>0</th>\n",
       "      <td>2202</td>\n",
       "      <td>enalapril</td>\n",
       "      <td>Highly Effective</td>\n",
       "      <td>Mild Side Effects</td>\n",
       "      <td>management of congestive heart failure</td>\n",
       "      <td>slowed the progression of left ventricular dys...</td>\n",
       "      <td>cough, hypotension , proteinuria, impotence , ...</td>\n",
       "      <td>monitor blood pressure , weight and asses for ...</td>\n",
       "    </tr>\n",
       "    <tr>\n",
       "      <th>1</th>\n",
       "      <td>3117</td>\n",
       "      <td>ortho-tri-cyclen</td>\n",
       "      <td>Highly Effective</td>\n",
       "      <td>Severe Side Effects</td>\n",
       "      <td>birth prevention</td>\n",
       "      <td>Although this type of birth control has more c...</td>\n",
       "      <td>Heavy Cycle, Cramps, Hot Flashes, Fatigue, Lon...</td>\n",
       "      <td>I Hate This Birth Control, I Would Not Suggest...</td>\n",
       "    </tr>\n",
       "    <tr>\n",
       "      <th>2</th>\n",
       "      <td>1146</td>\n",
       "      <td>ponstel</td>\n",
       "      <td>Highly Effective</td>\n",
       "      <td>No Side Effects</td>\n",
       "      <td>menstrual cramps</td>\n",
       "      <td>I was used to having cramps so badly that they...</td>\n",
       "      <td>Heavier bleeding and clotting than normal.</td>\n",
       "      <td>I took 2 pills at the onset of my menstrual cr...</td>\n",
       "    </tr>\n",
       "    <tr>\n",
       "      <th>3</th>\n",
       "      <td>3947</td>\n",
       "      <td>prilosec</td>\n",
       "      <td>Marginally Effective</td>\n",
       "      <td>Mild Side Effects</td>\n",
       "      <td>acid reflux</td>\n",
       "      <td>The acid reflux went away for a few months aft...</td>\n",
       "      <td>Constipation, dry mouth and some mild dizzines...</td>\n",
       "      <td>I was given Prilosec prescription at a dose of...</td>\n",
       "    </tr>\n",
       "    <tr>\n",
       "      <th>4</th>\n",
       "      <td>1951</td>\n",
       "      <td>lyrica</td>\n",
       "      <td>Marginally Effective</td>\n",
       "      <td>Severe Side Effects</td>\n",
       "      <td>fibromyalgia</td>\n",
       "      <td>I think that the Lyrica was starting to help w...</td>\n",
       "      <td>I felt extremely drugged and dopey.  Could not...</td>\n",
       "      <td>See above</td>\n",
       "    </tr>\n",
       "  </tbody>\n",
       "</table>\n",
       "</div>"
      ],
      "text/plain": [
       "   Unnamed: 0       urlDrugName         effectiveness          sideEffects  \\\n",
       "0        2202         enalapril      Highly Effective    Mild Side Effects   \n",
       "1        3117  ortho-tri-cyclen      Highly Effective  Severe Side Effects   \n",
       "2        1146           ponstel      Highly Effective      No Side Effects   \n",
       "3        3947          prilosec  Marginally Effective    Mild Side Effects   \n",
       "4        1951            lyrica  Marginally Effective  Severe Side Effects   \n",
       "\n",
       "                                condition  \\\n",
       "0  management of congestive heart failure   \n",
       "1                        birth prevention   \n",
       "2                        menstrual cramps   \n",
       "3                             acid reflux   \n",
       "4                            fibromyalgia   \n",
       "\n",
       "                                      benefitsReview  \\\n",
       "0  slowed the progression of left ventricular dys...   \n",
       "1  Although this type of birth control has more c...   \n",
       "2  I was used to having cramps so badly that they...   \n",
       "3  The acid reflux went away for a few months aft...   \n",
       "4  I think that the Lyrica was starting to help w...   \n",
       "\n",
       "                                   sideEffectsReview  \\\n",
       "0  cough, hypotension , proteinuria, impotence , ...   \n",
       "1  Heavy Cycle, Cramps, Hot Flashes, Fatigue, Lon...   \n",
       "2         Heavier bleeding and clotting than normal.   \n",
       "3  Constipation, dry mouth and some mild dizzines...   \n",
       "4  I felt extremely drugged and dopey.  Could not...   \n",
       "\n",
       "                                      commentsReview  \n",
       "0  monitor blood pressure , weight and asses for ...  \n",
       "1  I Hate This Birth Control, I Would Not Suggest...  \n",
       "2  I took 2 pills at the onset of my menstrual cr...  \n",
       "3  I was given Prilosec prescription at a dose of...  \n",
       "4                                          See above  "
      ]
     },
     "execution_count": 34,
     "metadata": {},
     "output_type": "execute_result"
    }
   ],
   "source": [
    "X=df\n",
    "X.head()"
   ]
  },
  {
   "cell_type": "code",
   "execution_count": 35,
   "metadata": {},
   "outputs": [
    {
     "data": {
      "text/plain": [
       "array([['enalapril', 'Highly Effective', 'Mild Side Effects', ...,\n",
       "        'slowed the progression of left ventricular dysfunction into overt heart failure \\r\\r\\nalone or with other agents in the managment of hypertension \\r\\r\\nmangagement of congestive heart failur',\n",
       "        'cough, hypotension , proteinuria, impotence , renal failure , angina pectoris , tachycardia , eosinophilic pneumonitis, tastes disturbances , anusease anorecia , weakness fatigue insominca weakness',\n",
       "        'monitor blood pressure , weight and asses for resolution of fluid'],\n",
       "       ['ortho-tri-cyclen', 'Highly Effective', 'Severe Side Effects',\n",
       "        ...,\n",
       "        \"Although this type of birth control has more cons than pros, it did help with my cramps. It's also effective with the prevention of pregnancy. (Along with use of condoms as well)\",\n",
       "        \"Heavy Cycle, Cramps, Hot Flashes, Fatigue, Long Lasting Cycles. It's only been 5 1/2 months, but i'm concidering changing to a different bc. This is my first time using any kind of bc, unfortunately due to the constant hassel, i'm not happy with the results.\",\n",
       "        'I Hate This Birth Control, I Would Not Suggest This To Anyone.'],\n",
       "       ['ponstel', 'Highly Effective', 'No Side Effects', ...,\n",
       "        \"I was used to having cramps so badly that they would leave me balled up in bed for at least 2 days.  The Ponstel doesn't take the pain away completely, but takes the edge off so much that normal activities were possible. Definitely a miracle medication!!\",\n",
       "        'Heavier bleeding and clotting than normal.',\n",
       "        'I took 2 pills at the onset of my menstrual cramps and then every 8-12 hours took 1 pill as needed for about 3-4 days until cramps were over. If cramps are bad, make sure to take every 8 hours on the dot because the medication stops working suddenly and unfortunately takes about an hour to an hour and a half to kick back in.. if cramps are only moderate, taking every 12 hours is okay.'],\n",
       "       ...,\n",
       "       ['climara', 'Marginally Effective', 'Moderate Side Effects', ...,\n",
       "        '---',\n",
       "        'Constant issues with the patch not staying on.  I called the manufacture (Bayer), they took down the lot number and said we are sorry.  They said they were going to send a new box to my local pharmacy at no charge.  I have checked every week for the last three weeks and NOTHING!  Yeah, great way to follow through.  Throughout being on the patch I noticed large acne on my face, lack of energy, no libido, vaginal dryness, daily hot flashes and extreme moodiness (so sorry to my husband, even though he has been great through all of this).  I know it has only been three months and my body is trying to adjust, but I just could not take it anymore.  I contacted my GYN and he prescribed Estratest.  Cross your fingers I hope it works!!!!',\n",
       "        '---'],\n",
       "       ['trileptal', 'Considerably Effective', 'Mild Side Effects', ...,\n",
       "        'Controlled complex partial seizures.',\n",
       "        'Dizziness, fatigue, nausea',\n",
       "        'Started at 2 doses of 300 mg a day and worked up to 4 doses per day over a six month period. Only at 1200 mg a day did the drug control the seizures. During each time when I increased the dosage, I founf the side-effects worsened, but after a week or so, the side effects minimized and then disappeared.'],\n",
       "       ['micardis', 'Moderately Effective', 'Moderate Side Effects', ...,\n",
       "        'The drug Micardis did seem to alleviate my high blood pressure to some degree though definitely not entirely.  My blood pressure is still higher than I or my doctor would like it to be. At the moment it averages about 140 over 90 but it was 180 over 110. Therefore I would say it was somewhat efficacious. It also alleviated some headaches that I assume were blood pressure related.',\n",
       "        'I find when I am taking Micardis that I tend to be very tired and my libido is decreased.',\n",
       "        'I take Micardis in pill form once daily.']], dtype=object)"
      ]
     },
     "execution_count": 35,
     "metadata": {},
     "output_type": "execute_result"
    }
   ],
   "source": [
    "X=X.iloc[:, 1:].values\n",
    "X"
   ]
  },
  {
   "cell_type": "code",
   "execution_count": 43,
   "metadata": {},
   "outputs": [
    {
     "data": {
      "text/plain": [
       "array([[166, 1, 1, 796, 2881, 2237, 2781],\n",
       "       [319, 1, 4, 224, 155, 457, 532]], dtype=object)"
      ]
     },
     "execution_count": 43,
     "metadata": {},
     "output_type": "execute_result"
    }
   ],
   "source": [
    "X[:2]"
   ]
  },
  {
   "cell_type": "code",
   "execution_count": 44,
   "metadata": {},
   "outputs": [],
   "source": [
    "from sklearn.preprocessing import LabelEncoder"
   ]
  },
  {
   "cell_type": "code",
   "execution_count": 45,
   "metadata": {},
   "outputs": [],
   "source": [
    "label=LabelEncoder()"
   ]
  },
  {
   "cell_type": "code",
   "execution_count": 46,
   "metadata": {},
   "outputs": [
    {
     "data": {
      "text/plain": [
       "array([166, 319, 345, 353, 259, 362, 471, 160, 477, 98], dtype=object)"
      ]
     },
     "execution_count": 46,
     "metadata": {},
     "output_type": "execute_result"
    }
   ],
   "source": [
    "X[:, 0]=label.fit_transform(X[:, 0])\n",
    "X[:10, 0]"
   ]
  },
  {
   "cell_type": "code",
   "execution_count": 47,
   "metadata": {},
   "outputs": [
    {
     "data": {
      "text/plain": [
       "array([1, 1, 1, 3, 3, 2, 1, 0, 1, 2], dtype=object)"
      ]
     },
     "execution_count": 47,
     "metadata": {},
     "output_type": "execute_result"
    }
   ],
   "source": [
    "X[:, 1]=label.fit_transform(X[:, 1])\n",
    "X[:10, 1]"
   ]
  },
  {
   "cell_type": "code",
   "execution_count": 48,
   "metadata": {},
   "outputs": [
    {
     "data": {
      "text/plain": [
       "(3096, 7)"
      ]
     },
     "execution_count": 48,
     "metadata": {},
     "output_type": "execute_result"
    }
   ],
   "source": [
    "X.shape"
   ]
  },
  {
   "cell_type": "code",
   "execution_count": 49,
   "metadata": {},
   "outputs": [],
   "source": [
    "for i in range(X.shape[1]):\n",
    "    \n",
    "    X[:, i]=label.fit_transform(X[:, i])\n",
    "    "
   ]
  },
  {
   "cell_type": "code",
   "execution_count": 50,
   "metadata": {},
   "outputs": [
    {
     "data": {
      "text/plain": [
       "(3096, 7)"
      ]
     },
     "execution_count": 50,
     "metadata": {},
     "output_type": "execute_result"
    }
   ],
   "source": [
    "X.shape"
   ]
  },
  {
   "cell_type": "code",
   "execution_count": 51,
   "metadata": {},
   "outputs": [
    {
     "data": {
      "text/plain": [
       "array([[166, 1, 1, ..., 2881, 2237, 2781],\n",
       "       [319, 1, 4, ..., 155, 457, 532],\n",
       "       [345, 1, 3, ..., 970, 456, 1109],\n",
       "       ...,\n",
       "       [100, 3, 2, ..., 4, 199, 2],\n",
       "       [444, 0, 1, ..., 294, 253, 1977],\n",
       "       [278, 4, 2, ..., 1906, 653, 995]], dtype=object)"
      ]
     },
     "execution_count": 51,
     "metadata": {},
     "output_type": "execute_result"
    }
   ],
   "source": [
    "X"
   ]
  },
  {
   "cell_type": "code",
   "execution_count": null,
   "metadata": {},
   "outputs": [],
   "source": []
  },
  {
   "cell_type": "code",
   "execution_count": 52,
   "metadata": {},
   "outputs": [],
   "source": [
    "from sklearn.model_selection import train_test_split"
   ]
  },
  {
   "cell_type": "code",
   "execution_count": 53,
   "metadata": {},
   "outputs": [],
   "source": [
    "X_train, X_test, y_train, y_test = train_test_split(X, y,test_size=0.3)"
   ]
  },
  {
   "cell_type": "code",
   "execution_count": 54,
   "metadata": {},
   "outputs": [
    {
     "data": {
      "text/plain": [
       "(2167, 7)"
      ]
     },
     "execution_count": 54,
     "metadata": {},
     "output_type": "execute_result"
    }
   ],
   "source": [
    "X_train.shape"
   ]
  },
  {
   "cell_type": "code",
   "execution_count": 55,
   "metadata": {},
   "outputs": [
    {
     "data": {
      "text/plain": [
       "(2167,)"
      ]
     },
     "execution_count": 55,
     "metadata": {},
     "output_type": "execute_result"
    }
   ],
   "source": [
    "y_train.shape"
   ]
  },
  {
   "cell_type": "code",
   "execution_count": null,
   "metadata": {},
   "outputs": [],
   "source": []
  },
  {
   "cell_type": "code",
   "execution_count": 68,
   "metadata": {},
   "outputs": [],
   "source": [
    "class classification_proba_GDA(object):\n",
    "    def __init__(self, X, Y):\n",
    "        self.X=X\n",
    "        self.Y=Y\n",
    "        \n",
    "        \n",
    "    \n",
    "        self.labels, self.class_priors = np.unique(self.Y, return_counts=True)\n",
    "        self.class_priors = self.class_priors / self.Y.shape[0]\n",
    "\n",
    "        print(self.labels)\n",
    "        self.Cov = []\n",
    "        self.Mu = []\n",
    "        \n",
    "        for k in range(len(self.labels)):\n",
    "            X_k = X[Y==self.labels[k]]\n",
    "            self.Mu.append(np.mean(X_k, axis=0))\n",
    "\n",
    "            self.Cov.append(np.cov((X_k).astype(float), rowvar=False)) \n",
    "        print(self.Mu[:3])\n",
    "        print('***********************')\n",
    "        print(self.Cov[0])\n",
    "        print(self.class_priors)\n",
    "            \n",
    "    def phi_GDA(self, Y):\n",
    "        self.Y=Y\n",
    "        p=np.mean(self.Y)\n",
    "        \n",
    "        return p\n",
    "    \n",
    "    \n",
    "    \n",
    "    def predict_sample_GDA(self, X,Y):\n",
    "        max_label = 0\n",
    "        max_likelihood = 0\n",
    "        pi=3.14\n",
    "        n=7\n",
    "        for k in range(len(self.labels)):\n",
    "            \n",
    "            if np.linalg.det(self.Cov[k])!=0 :\n",
    "                \n",
    "                C=1/(((2*pi)**(3.5))*(np.linalg.det(self.Cov[k].T))**0.5)\n",
    "                likelihood  = C*np.exp((-1/2)* np.dot(np.dot((X - self.Mu[k]).T , np.linalg.inv((self.Cov[k]))) , (X - self.Mu[k])))\n",
    "                proba= likelihood * pow(self.phi_GDA(Y), k) * (pow(1-self.phi_GDA(Y),1-k))\n",
    "                if  proba > max_likelihood:\n",
    "                    max_label = self.labels[k]\n",
    "                    max_likelihood = proba\n",
    "                    \n",
    "        \n",
    "        return max_label"
   ]
  },
  {
   "cell_type": "code",
   "execution_count": 69,
   "metadata": {},
   "outputs": [
    {
     "name": "stdout",
     "output_type": "stream",
     "text": [
      "[ 1  2  3  4  5  6  7  8  9 10]\n",
      "[array([267.6111111111111, 2.0462962962962963, 1.7592592592592593,\n",
      "       662.9722222222222, 1722.4444444444443, 1366.3240740740741,\n",
      "       1616.3055555555557], dtype=object), array([236.01388888888889, 2.1666666666666665, 2.5416666666666665,\n",
      "       612.2222222222222, 1407.388888888889, 1282.125, 1477.875],\n",
      "      dtype=object), array([270.5673076923077, 2.1923076923076925, 2.5961538461538463,\n",
      "       621.2115384615385, 1388.6057692307693, 1286.298076923077,\n",
      "       1376.8461538461538], dtype=object)]\n",
      "***********************\n",
      "[[ 2.12408341e+04  1.18366925e+01 -2.31777778e+01 -4.53212713e+03\n",
      "  -1.65794775e+04 -6.70205013e+03 -1.60722992e+04]\n",
      " [ 1.18366925e+01  1.16993971e+00  1.58484065e-02 -4.33428941e+01\n",
      "   7.43281654e+01  3.33105082e+01  3.27253230e+01]\n",
      " [-2.31777778e+01  1.58484065e-02  3.29061154e+00 -8.53229974e+00\n",
      "  -1.90594832e+02 -1.08568131e+02  1.66366925e+01]\n",
      " [-4.53212713e+03 -4.33428941e+01 -8.53229974e+00  1.82807088e+05\n",
      "   3.96764822e+04  1.80460904e+03 -7.61588450e+03]\n",
      " [-1.65794775e+04  7.43281654e+01 -1.90594832e+02  3.96764822e+04\n",
      "   7.75435829e+05  3.00567934e+05  2.51336784e+05]\n",
      " [-6.70205013e+03  3.33105082e+01 -1.08568131e+02  1.80460904e+03\n",
      "   3.00567934e+05  7.51288053e+05  2.18123431e+05]\n",
      " [-1.60722992e+04  3.27253230e+01  1.66366925e+01 -7.61588450e+03\n",
      "   2.51336784e+05  2.18123431e+05  8.28097990e+05]]\n",
      "***********************\n",
      "***********************\n",
      "[0.09967697 0.03322566 0.04799262 0.03322566 0.04983849 0.05214582\n",
      " 0.10936779 0.17951084 0.1545916  0.24042455]\n"
     ]
    }
   ],
   "source": [
    "p=classification_proba_GDA(X_train, y_train)"
   ]
  },
  {
   "cell_type": "code",
   "execution_count": 58,
   "metadata": {},
   "outputs": [
    {
     "name": "stdout",
     "output_type": "stream",
     "text": [
      "7.002307337332718\n"
     ]
    }
   ],
   "source": [
    "phi=p.phi_GDA(y_train)\n",
    "print(phi)"
   ]
  },
  {
   "cell_type": "code",
   "execution_count": null,
   "metadata": {},
   "outputs": [],
   "source": []
  },
  {
   "cell_type": "code",
   "execution_count": 59,
   "metadata": {
    "scrolled": true
   },
   "outputs": [
    {
     "name": "stdout",
     "output_type": "stream",
     "text": [
      "(array([ 2.,  4.,  6.,  8., 10.]), array([137, 197, 263, 633, 937]))\n",
      "[10. 10.  6. 10. 10.  6.  8. 10. 10.  8.  6. 10. 10. 10. 10.  8. 10.  6.\n",
      " 10. 10.]\n"
     ]
    }
   ],
   "source": [
    "a=np.zeros(X_train.shape[0])\n",
    "for i in range(X_train.shape[0]):\n",
    "    \n",
    "    a[i]=p.predict_sample_GDA(X_train[i], y_train)\n",
    "    \n",
    "print(np.unique(a, return_counts= True))\n",
    "print(a[:20])"
   ]
  },
  {
   "cell_type": "code",
   "execution_count": 60,
   "metadata": {},
   "outputs": [
    {
     "data": {
      "text/plain": [
       "929"
      ]
     },
     "execution_count": 60,
     "metadata": {},
     "output_type": "execute_result"
    }
   ],
   "source": [
    "len(y_test)"
   ]
  },
  {
   "cell_type": "code",
   "execution_count": 61,
   "metadata": {},
   "outputs": [
    {
     "data": {
      "text/plain": [
       "(929, 7)"
      ]
     },
     "execution_count": 61,
     "metadata": {},
     "output_type": "execute_result"
    }
   ],
   "source": [
    "X_test.shape"
   ]
  },
  {
   "cell_type": "code",
   "execution_count": 62,
   "metadata": {},
   "outputs": [
    {
     "name": "stdout",
     "output_type": "stream",
     "text": [
      "(array([ 2.,  4.,  6.,  8., 10.]), array([ 65, 102,  93, 281, 388]))\n",
      "[ 8.  8. 10.  8. 10. 10. 10. 10.  8. 10. 10.  6.  8.  8.  8. 10.  8.  2.\n",
      "  8.  8.  4.  6.  8. 10.  8.  6.  4. 10. 10.  8.  6. 10.  8. 10.  6.  8.\n",
      "  8. 10. 10.  6.]\n"
     ]
    }
   ],
   "source": [
    "prediction=np.zeros(X_test.shape[0])\n",
    "for i in range(X_test.shape[0]):\n",
    "    \n",
    "    prediction[i]=p.predict_sample_GDA(X_test[i], y_test)\n",
    "    \n",
    "print(np.unique(prediction, return_counts= True))\n",
    "print(prediction[:40])"
   ]
  },
  {
   "cell_type": "code",
   "execution_count": 63,
   "metadata": {},
   "outputs": [
    {
     "data": {
      "text/plain": [
       "929"
      ]
     },
     "execution_count": 63,
     "metadata": {},
     "output_type": "execute_result"
    }
   ],
   "source": [
    "len(prediction)"
   ]
  },
  {
   "cell_type": "code",
   "execution_count": 64,
   "metadata": {},
   "outputs": [],
   "source": [
    "accur=0 \n",
    "for i in range(len(prediction)):\n",
    "    if prediction[i]==y_test[i]:\n",
    "        accur+=1\n",
    "accur=accur/len(prediction)"
   ]
  },
  {
   "cell_type": "code",
   "execution_count": 65,
   "metadata": {},
   "outputs": [
    {
     "name": "stdout",
     "output_type": "stream",
     "text": [
      "accuracy is 36.06027987082885 %\n"
     ]
    }
   ],
   "source": [
    "print('accuracy is {} %'.format(accur*100))"
   ]
  },
  {
   "cell_type": "markdown",
   "metadata": {},
   "source": [
    "# SoftMax Regression"
   ]
  },
  {
   "cell_type": "code",
   "execution_count": null,
   "metadata": {},
   "outputs": [],
   "source": []
  },
  {
   "cell_type": "code",
   "execution_count": null,
   "metadata": {},
   "outputs": [],
   "source": []
  },
  {
   "cell_type": "code",
   "execution_count": null,
   "metadata": {},
   "outputs": [],
   "source": []
  }
 ],
 "metadata": {
  "kernelspec": {
   "display_name": "Python 3",
   "language": "python",
   "name": "python3"
  },
  "language_info": {
   "codemirror_mode": {
    "name": "ipython",
    "version": 3
   },
   "file_extension": ".py",
   "mimetype": "text/x-python",
   "name": "python",
   "nbconvert_exporter": "python",
   "pygments_lexer": "ipython3",
   "version": "3.7.3"
  }
 },
 "nbformat": 4,
 "nbformat_minor": 2
}
